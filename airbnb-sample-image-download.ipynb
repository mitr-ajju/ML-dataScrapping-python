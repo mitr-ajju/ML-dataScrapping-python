{
 "cells": [
  {
   "cell_type": "code",
   "execution_count": 1,
   "metadata": {},
   "outputs": [
    {
     "name": "stdout",
     "output_type": "stream",
     "text": [
      "['id' 'first_name' 'picture_url' 'gender_deepface' 'age_deepface'\n",
      " 'ethnicity_deepface' 'gender_clarifai' 'ethnicity_clarifai']\n"
     ]
    }
   ],
   "source": [
    "import cv2\n",
    "from PIL import Image\n",
    "import urllib.request\n",
    "import matplotlib.pyplot as plt\n",
    "import pandas as pd\n",
    "import numpy as np\n",
    "\n",
    "count = 0\n",
    "df = pd.read_csv('DeepfaceClarifaiTest.csv')\n",
    "print(df.columns.values)\n"
   ]
  },
  {
   "cell_type": "code",
   "execution_count": null,
   "metadata": {},
   "outputs": [],
   "source": [
    "count = 0\n",
    "for x in df.iterrows():\n",
    "    print(df['picture_url'][count])\n",
    "    count+=1"
   ]
  },
  {
   "cell_type": "code",
   "execution_count": null,
   "metadata": {},
   "outputs": [],
   "source": [
    "import requests # request img from web\n",
    "import shutil # save img locally\n",
    "\n",
    "count = 0\n",
    "for x in df.iterrows():\n",
    "    url = df['picture_url'][count]\n",
    "    file_name = df['id'][count] #prompt user for file name\n",
    "    res = requests.get(url, stream = True)\n",
    "    if res.status_code == 200:\n",
    "      with open(file_name,'wb') as f:\n",
    "        shutil.copyfileobj(res.raw, f)\n",
    "      print('Image sucessfully Downloaded: ',file_name)\n",
    "    else:\n",
    "      print('Image Couldn\\'t be retrieved')\n",
    "    count+=1"
   ]
  }
 ],
 "metadata": {
  "kernelspec": {
   "display_name": "base",
   "language": "python",
   "name": "python3"
  },
  "language_info": {
   "codemirror_mode": {
    "name": "ipython",
    "version": 3
   },
   "file_extension": ".py",
   "mimetype": "text/x-python",
   "name": "python",
   "nbconvert_exporter": "python",
   "pygments_lexer": "ipython3",
   "version": "3.9.13 (main, Aug 25 2022, 18:29:29) \n[Clang 12.0.0 ]"
  },
  "orig_nbformat": 4,
  "vscode": {
   "interpreter": {
    "hash": "e1272c290eaa65859ee7837ee0f6b773eea5be0d6522cf638fb009b117bb8c1e"
   }
  }
 },
 "nbformat": 4,
 "nbformat_minor": 2
}
